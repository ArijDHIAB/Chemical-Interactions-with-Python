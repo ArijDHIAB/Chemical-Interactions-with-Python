{
 "cells": [
  {
   "cell_type": "markdown",
   "metadata": {},
   "source": [
    "# Determination du réactif limitant et l'avancement maximal"
   ]
  },
  {
   "cell_type": "code",
   "execution_count": 1,
   "metadata": {},
   "outputs": [
    {
     "name": "stdout",
     "output_type": "stream",
     "text": [
      "CH4 + 2O2 ---------> CO2 + 2H2O\n"
     ]
    }
   ],
   "source": [
    "import math\n",
    "\n",
    "print(\"CH4 + 2O2 ---------> CO2 + 2H2O\")"
   ]
  },
  {
   "cell_type": "code",
   "execution_count": 2,
   "metadata": {},
   "outputs": [],
   "source": [
    "nom_react = ['CH4','O2']\n",
    "nb_stoech_react = [1,2]"
   ]
  },
  {
   "cell_type": "code",
   "execution_count": 3,
   "metadata": {},
   "outputs": [],
   "source": [
    "n_init_react = [0.04,0.01]\n",
    "x_max = math.inf\n",
    "reactif_limitant = len (nom_react)"
   ]
  },
  {
   "cell_type": "code",
   "execution_count": 4,
   "metadata": {},
   "outputs": [],
   "source": [
    "for i in range (len(nom_react)):\n",
    "    if (n_init_react[i] / nb_stoech_react[i]) < x_max:\n",
    "        x_max = n_init_react[i]/nb_stoech_react[i]\n",
    "        reactif_limitant = i"
   ]
  },
  {
   "cell_type": "code",
   "execution_count": 5,
   "metadata": {},
   "outputs": [
    {
     "name": "stdout",
     "output_type": "stream",
     "text": [
      "L'avancement maximale est x_max = : 0.005 mol\n",
      "Le réactif limitant est : O2\n"
     ]
    }
   ],
   "source": [
    "print(\"L'avancement maximale est x_max = :\", x_max,\"mol\")\n",
    "print(\"Le réactif limitant est :\", nom_react[reactif_limitant])"
   ]
  }
 ],
 "metadata": {
  "interpreter": {
   "hash": "3f800561dde6209f0c647b1ec24b295364b37801e2a63d392a491285ef4d5a88"
  },
  "kernelspec": {
   "display_name": "Python 3.8.8 64-bit ('base': conda)",
   "language": "python",
   "name": "python3"
  },
  "language_info": {
   "codemirror_mode": {
    "name": "ipython",
    "version": 3
   },
   "file_extension": ".py",
   "mimetype": "text/x-python",
   "name": "python",
   "nbconvert_exporter": "python",
   "pygments_lexer": "ipython3",
   "version": "3.8.8"
  },
  "orig_nbformat": 4
 },
 "nbformat": 4,
 "nbformat_minor": 2
}
