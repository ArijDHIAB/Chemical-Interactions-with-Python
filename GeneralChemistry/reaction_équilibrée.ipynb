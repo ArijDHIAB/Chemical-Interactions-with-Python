{
 "cells": [
  {
   "cell_type": "markdown",
   "metadata": {},
   "source": [
    "# Programme pour équilibrer une réaction chimique de combustion"
   ]
  },
  {
   "cell_type": "code",
   "execution_count": 4,
   "metadata": {},
   "outputs": [
    {
     "name": "stdout",
     "output_type": "stream",
     "text": [
      "C₁H₄\n",
      "O₂\n",
      "C₁O₂\n",
      "H₂O₁\n",
      "1C₁H₄ + 1O₂ --> 1C₁O₂ + 1H₂O₁\n",
      "La réaction de combustion de CH4 n'est pas équilibrée, la nouvelle réaction est :\n",
      "1C₁H₄ + 2O₂ --> 1C₁O₂ + 2H₂O₁\n"
     ]
    }
   ],
   "source": [
    "from chemlib import Compound, Reaction\n",
    "x = input(\"Veuillez saisir un élement chimique :\")\n",
    "xane = Compound(x)\n",
    "oxygene = Compound(\"O2\")\n",
    "dioxyde_carbone = Compound(\"CO2\")\n",
    "eau = Compound(\"H2O\")\n",
    "print(xane.formula)\n",
    "print(oxygene.formula)\n",
    "print(dioxyde_carbone.formula)\n",
    "print(eau.formula)\n",
    "r = Reaction([xane,oxygene],[dioxyde_carbone,eau])\n",
    "r.formula\n",
    "print(r)\n",
    "if r.is_balanced == True:\n",
    "    print (\"La réaction de combustion de\",x, \"est équilibrée\")\n",
    "else:\n",
    "    print(\"La réaction de combustion de\",x,\"n'est pas équilibrée, la nouvelle réaction est :\")\n",
    "    r.balance()\n",
    "    r.formula\n",
    "    print(r)\n"
   ]
  }
 ],
 "metadata": {
  "interpreter": {
   "hash": "3f800561dde6209f0c647b1ec24b295364b37801e2a63d392a491285ef4d5a88"
  },
  "kernelspec": {
   "display_name": "Python 3.8.8 64-bit ('base': conda)",
   "language": "python",
   "name": "python3"
  },
  "language_info": {
   "codemirror_mode": {
    "name": "ipython",
    "version": 3
   },
   "file_extension": ".py",
   "mimetype": "text/x-python",
   "name": "python",
   "nbconvert_exporter": "python",
   "pygments_lexer": "ipython3",
   "version": "3.8.8"
  },
  "orig_nbformat": 4
 },
 "nbformat": 4,
 "nbformat_minor": 2
}
